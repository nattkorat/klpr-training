{
 "cells": [
  {
   "cell_type": "code",
   "execution_count": 1,
   "metadata": {},
   "outputs": [],
   "source": [
    "import easyocr\n",
    "import torch\n",
    "import os\n",
    "from PIL import Image\n",
    "import numpy as np\n",
    "import matplotlib.pyplot as plt\n",
    "from torchmetrics.text import CharErrorRate\n",
    "import cv2\n",
    "import pandas as pd\n",
    "import seaborn as sns\n",
    "\n",
    "%matplotlib inline\n",
    "\n",
    "is_cuda = torch.cuda.is_available()\n",
    "\n",
    "# init reader object\n",
    "reader = easyocr.Reader(['en'], gpu=is_cuda, verbose=False)"
   ]
  },
  {
   "cell_type": "code",
   "execution_count": 2,
   "metadata": {},
   "outputs": [
    {
     "data": {
      "text/plain": [
       "dict_keys(['licenses', 'info', 'categories', 'images', 'annotations'])"
      ]
     },
     "execution_count": 2,
     "metadata": {},
     "output_type": "execute_result"
    }
   ],
   "source": [
    "import json\n",
    "\n",
    "with open('/home/nattkorat/Desktop/klpr_dataset/annotations/instances_default.json', 'r') as file:\n",
    "    data = json.load(file)\n",
    "\n",
    "data.keys()"
   ]
  },
  {
   "cell_type": "code",
   "execution_count": 3,
   "metadata": {},
   "outputs": [
    {
     "data": {
      "text/plain": [
       "3010"
      ]
     },
     "execution_count": 3,
     "metadata": {},
     "output_type": "execute_result"
    }
   ],
   "source": [
    "len(data['images'])"
   ]
  },
  {
   "cell_type": "code",
   "execution_count": 4,
   "metadata": {},
   "outputs": [
    {
     "data": {
      "text/plain": [
       "[{'id': 1, 'name': 'vehicle', 'supercategory': ''},\n",
       " {'id': 2, 'name': 'plate', 'supercategory': ''},\n",
       " {'id': 3, 'name': 'serial', 'supercategory': ''},\n",
       " {'id': 4, 'name': 'place', 'supercategory': ''}]"
      ]
     },
     "execution_count": 4,
     "metadata": {},
     "output_type": "execute_result"
    }
   ],
   "source": [
    "data['categories']"
   ]
  },
  {
   "cell_type": "code",
   "execution_count": 7,
   "metadata": {},
   "outputs": [
    {
     "data": {
      "text/plain": [
       "28357"
      ]
     },
     "execution_count": 7,
     "metadata": {},
     "output_type": "execute_result"
    }
   ],
   "source": [
    "len(data['annotations'])"
   ]
  },
  {
   "cell_type": "code",
   "execution_count": 107,
   "metadata": {},
   "outputs": [
    {
     "data": {
      "text/plain": [
       "{'id': 1,\n",
       " 'image_id': 1,\n",
       " 'category_id': 3,\n",
       " 'segmentation': [],\n",
       " 'area': 2677.351499999996,\n",
       " 'bbox': [796.1, 650.35, 78.63, 34.05],\n",
       " 'iscrowd': 0,\n",
       " 'attributes': {'vehicle_id': 0.0,\n",
       "  'label': '3A-0321',\n",
       "  'occluded': False,\n",
       "  'rotation': 0.0}}"
      ]
     },
     "execution_count": 107,
     "metadata": {},
     "output_type": "execute_result"
    }
   ],
   "source": [
    "ann_d = data['annotations'][0]\n",
    "ann_d"
   ]
  },
  {
   "cell_type": "code",
   "execution_count": 108,
   "metadata": {},
   "outputs": [
    {
     "data": {
      "text/plain": [
       "{1: 13174, 2: 6594, 3: 4391, 4: 4198}"
      ]
     },
     "execution_count": 108,
     "metadata": {},
     "output_type": "execute_result"
    }
   ],
   "source": [
    "id = [ i['category_id'] for i in data['annotations']]\n",
    "\n",
    "uid = set(id)\n",
    "cat = {}\n",
    "for s in uid:\n",
    "    cat[s] = 0\n",
    "\n",
    "for i in id:\n",
    "    cat[i] += 1\n",
    "\n",
    "cat"
   ]
  },
  {
   "cell_type": "code",
   "execution_count": 8,
   "metadata": {},
   "outputs": [
    {
     "data": {
      "text/plain": [
       "[{'id': 4,\n",
       "  'image_id': 1,\n",
       "  'category_id': 4,\n",
       "  'segmentation': [],\n",
       "  'area': 1494.4330000000016,\n",
       "  'bbox': [805.9, 628.4, 62.95, 23.74],\n",
       "  'iscrowd': 0,\n",
       "  'attributes': {'label': 'Modulkiri',\n",
       "   'vehicle_id': 0.0,\n",
       "   'occluded': False,\n",
       "   'rotation': 0.0}},\n",
       " {'id': 8,\n",
       "  'image_id': 2,\n",
       "  'category_id': 4,\n",
       "  'segmentation': [],\n",
       "  'area': 1169.8802999999955,\n",
       "  'bbox': [379.79, 904.85, 58.29, 20.07],\n",
       "  'iscrowd': 0,\n",
       "  'attributes': {'label': 'Kampong Cham',\n",
       "   'vehicle_id': 0.0,\n",
       "   'occluded': False,\n",
       "   'rotation': 0.0}}]"
      ]
     },
     "execution_count": 8,
     "metadata": {},
     "output_type": "execute_result"
    }
   ],
   "source": [
    "place = [d for d in data['annotations'] if d['category_id'] == 4]\n",
    "place[:2]"
   ]
  },
  {
   "cell_type": "code",
   "execution_count": 110,
   "metadata": {},
   "outputs": [
    {
     "data": {
      "text/plain": [
       "{'Pailin': 5,\n",
       " 'Prey Veng': 92,\n",
       " 'Siem Reap': 223,\n",
       " 'Oudar Meanchey': 18,\n",
       " 'Preah Sihanouk': 30,\n",
       " 'Kampong Chhnang': 32,\n",
       " 'Svay Rieng': 134,\n",
       " 'Kampong Speu': 64,\n",
       " 'Takeo': 123,\n",
       " 'Preah Vihear': 69,\n",
       " 'State': 208,\n",
       " 'Pursat': 5,\n",
       " 'Kep': 124,\n",
       " 'RCAF': 34,\n",
       " 'Phnom Penh': 1422,\n",
       " 'Banteay Meanchey': 22,\n",
       " 'Tboung Khmum': 129,\n",
       " 'Kampong Thom': 162,\n",
       " 'Battambang': 119,\n",
       " 'Ratanakiri': 39,\n",
       " 'Cambodia': 243,\n",
       " 'Modulkiri': 22,\n",
       " 'Kratie': 14,\n",
       " 'Koh Kong': 10,\n",
       " 'Kandal': 546,\n",
       " 'Kampot': 105,\n",
       " 'Kampong Cham': 149,\n",
       " 'Police': 55}"
      ]
     },
     "execution_count": 110,
     "metadata": {},
     "output_type": "execute_result"
    }
   ],
   "source": [
    "province  = []\n",
    "for d in place:\n",
    "    province.append(d['attributes']['label'])\n",
    "\n",
    "province\n",
    "\n",
    "unp = set(province)\n",
    "unp\n",
    "\n",
    "pro_dic = {}\n",
    "\n",
    "for un in unp:\n",
    "    pro_dic[un] = 0\n",
    "\n",
    "pro_dic\n",
    "\n",
    "for pro in province:\n",
    "    pro_dic[pro] += 1\n",
    "\n",
    "pro_dic"
   ]
  },
  {
   "cell_type": "code",
   "execution_count": 111,
   "metadata": {},
   "outputs": [
    {
     "data": {
      "text/plain": [
       "<BarContainer object of 28 artists>"
      ]
     },
     "execution_count": 111,
     "metadata": {},
     "output_type": "execute_result"
    },
    {
     "data": {
      "image/png": "[encoded data removed]",
      "text/plain": [
       "<Figure size 640x480 with 1 Axes>"
      ]
     },
     "metadata": {},
     "output_type": "display_data"
    }
   ],
   "source": [
    "import pandas as pd\n",
    "from matplotlib import pyplot as plt\n",
    "\n",
    "place_label = {'province': [], 'value' : []}\n",
    "\n",
    "for key, val in pro_dic.items():\n",
    "    place_label['province'].append(key)\n",
    "    place_label['value'].append(val)\n",
    "\n",
    "df = pd.DataFrame(place_label)\n",
    "\n",
    "plt.barh(df.province, df.value)"
   ]
  },
  {
   "cell_type": "markdown",
   "metadata": {},
   "source": [
    "## Preparing Data for Training"
   ]
  },
  {
   "cell_type": "markdown",
   "metadata": {},
   "source": [
    "{'id': 2, 'name': 'plate', 'supercategory': ''},\n",
    "{'id': 3, 'name': 'serial', 'supercategory': ''},\n",
    "\n",
    "We need these two to train for the first step to recognize license plate.\n",
    "\n",
    "We can set the id for the plate to 0 and serial to 1. and bounding which will normalize to the YOLO style for object detection task."
   ]
  },
  {
   "cell_type": "code",
   "execution_count": 9,
   "metadata": {},
   "outputs": [
    {
     "data": {
      "text/plain": [
       "[{'id': 1,\n",
       "  'image_id': 1,\n",
       "  'category_id': 3,\n",
       "  'segmentation': [],\n",
       "  'area': 2677.351499999996,\n",
       "  'bbox': [796.1, 650.35, 78.63, 34.05],\n",
       "  'iscrowd': 0,\n",
       "  'attributes': {'vehicle_id': 0.0,\n",
       "   'label': '3A-0321',\n",
       "   'occluded': False,\n",
       "   'rotation': 0.0}},\n",
       " {'id': 3,\n",
       "  'image_id': 1,\n",
       "  'category_id': 2,\n",
       "  'segmentation': [],\n",
       "  'area': 6435.97899999999,\n",
       "  'bbox': [788.38, 626.33, 92.14, 69.85],\n",
       "  'iscrowd': 0,\n",
       "  'attributes': {'vehicle_id': 0.0, 'occluded': False, 'rotation': 0.0}}]"
      ]
     },
     "execution_count": 9,
     "metadata": {},
     "output_type": "execute_result"
    }
   ],
   "source": [
    "plate_serial = []\n",
    "\n",
    "for dat in data['annotations']:\n",
    "    if dat['category_id'] in [2, 3]:\n",
    "        plate_serial.append(dat)\n",
    "\n",
    "plate_serial[:2]"
   ]
  },
  {
   "cell_type": "markdown",
   "metadata": {},
   "source": [
    "### Getting bbox and Label of all serial from plate number\n",
    "\n",
    "I want to get just the information from the serial to perform on the OCR Phase. And images are not at hight quality.\n",
    "\n",
    "    {\n",
    "        \"image_id\":\n",
    "        \"bbox\":\n",
    "        [\"attributes\"][\"label\"]\n",
    "        [\"attributes\"][\"vehicle_id\"]\n",
    "    }"
   ]
  },
  {
   "cell_type": "code",
   "execution_count": 10,
   "metadata": {},
   "outputs": [
    {
     "data": {
      "text/plain": [
       "[{'image_id': 1,\n",
       "  'bbox': [796.1, 650.35, 78.63, 34.05],\n",
       "  'label': '3A-0321',\n",
       "  'place': 'Modulkiri',\n",
       "  'file_name': '--484132167868878048907440-c.jpg'},\n",
       " {'image_id': 2,\n",
       "  'bbox': [357.39, 921.86, 102.72, 37.26],\n",
       "  'label': '2A-7176',\n",
       "  'place': 'Modulkiri',\n",
       "  'file_name': '-2000-8500-0977857183-781288167987857290124015-c_jpg.rf.fb35c072d7bf5cf2d50b433b477b6f77.jpg'},\n",
       " {'image_id': 3,\n",
       "  'bbox': [412.66, 887.34, 82.1, 28.65],\n",
       "  'label': '3A-0779',\n",
       "  'place': 'Modulkiri',\n",
       "  'file_name': '-872300167906305244721876-e_jpg.rf.965aaf5f9848b506ea980b911e6fee48.jpg'},\n",
       " {'image_id': 4,\n",
       "  'bbox': [540.92, 710.6, 166.91, 48.5],\n",
       "  'label': '2A-1320',\n",
       "  'place': 'Modulkiri',\n",
       "  'file_name': '-96-613864167962126619007504-c_jpg.rf.b6c2f221653f9769ca415df0f132cb68.jpg'},\n",
       " {'image_id': 5,\n",
       "  'bbox': [209.81, 669.03, 110.6, 38.16],\n",
       "  'label': '2B-5400',\n",
       "  'place': 'Modulkiri',\n",
       "  'file_name': '-crv98--314623167542570845124864-b.jpg'}]"
      ]
     },
     "execution_count": 10,
     "metadata": {},
     "output_type": "execute_result"
    }
   ],
   "source": [
    "serial_info = []\n",
    "for d in plate_serial:\n",
    "    if d['category_id'] == 3:\n",
    "        serial = {\n",
    "            \"image_id\": d['image_id'],\n",
    "            \"bbox\": d['bbox'],\n",
    "            \"label\": d['attributes']['label'],\n",
    "            \"place\": [i['attributes']['label'] for i in place if i['attributes']['vehicle_id'] == d['attributes']['vehicle_id']][0],\n",
    "            \"file_name\": [i['file_name'] for i in data['images'] if i['id'] == d['image_id']][0] # get file name from images data\n",
    "        }\n",
    "        serial_info.append(serial)\n",
    "\n",
    "serial_info[:5]"
   ]
  },
  {
   "cell_type": "code",
   "execution_count": 11,
   "metadata": {},
   "outputs": [],
   "source": [
    "def pre_process(img):\n",
    "    # Stretch the image to have a width of 640 and maintain the aspect ratio\n",
    "    desired_width = 640\n",
    "    aspect_ratio = img.shape[1] / img.shape[0]\n",
    "    desired_height = int(desired_width / aspect_ratio)\n",
    "\n",
    "    # Resize the image\n",
    "    resized_img = cv2.resize(img, (desired_width, desired_height), interpolation=cv2.INTER_LINEAR)\n",
    "\n",
    "    # Convert the image to grayscale\n",
    "    gray_img = cv2.cvtColor(resized_img, cv2.COLOR_BGR2GRAY)\n",
    "\n",
    "    # Apply Gaussian blur to reduce noise\n",
    "    blurred_img = cv2.GaussianBlur(gray_img, (5, 5), 0)\n",
    "\n",
    "    # Apply Otsu's thresholding\n",
    "    _, thresholded_image = cv2.threshold(blurred_img, 0, 255, cv2.THRESH_BINARY + cv2.THRESH_OTSU)\n",
    "\n",
    "    # add sharpen filter\n",
    "    sharpen_filter = np.array(\n",
    "        [\n",
    "            [-1,-1,-1],\n",
    "            [-1, 9, -1],\n",
    "            [-1,-1,-1]\n",
    "        ]\n",
    "    )\n",
    "\n",
    "    sh_img = cv2.filter2D(thresholded_image, -1, sharpen_filter)\n",
    "\n",
    "    return sh_img"
   ]
  },
  {
   "cell_type": "code",
   "execution_count": 12,
   "metadata": {},
   "outputs": [
    {
     "data": {
      "text/plain": [
       "{'image_id': 2,\n",
       " 'bbox': [357.39, 921.86, 102.72, 37.26],\n",
       " 'label': '2A-7176',\n",
       " 'place': 'Modulkiri',\n",
       " 'file_name': '-2000-8500-0977857183-781288167987857290124015-c_jpg.rf.fb35c072d7bf5cf2d50b433b477b6f77.jpg'}"
      ]
     },
     "execution_count": 12,
     "metadata": {},
     "output_type": "execute_result"
    }
   ],
   "source": [
    "test = serial_info[1]\n",
    "\n",
    "test"
   ]
  },
  {
   "cell_type": "code",
   "execution_count": 15,
   "metadata": {},
   "outputs": [
    {
     "data": {
      "text/plain": [
       "[{'image_id': 1,\n",
       "  'bbox': [796.1, 650.35, 78.63, 34.05],\n",
       "  'label': '3A-0321',\n",
       "  'place': 'Modulkiri',\n",
       "  'file_name': '--484132167868878048907440-c.jpg',\n",
       "  'prediction': '3A-0321'},\n",
       " {'image_id': 2,\n",
       "  'bbox': [357.39, 921.86, 102.72, 37.26],\n",
       "  'label': '2A-7176',\n",
       "  'place': 'Modulkiri',\n",
       "  'file_name': '-2000-8500-0977857183-781288167987857290124015-c_jpg.rf.fb35c072d7bf5cf2d50b433b477b6f77.jpg',\n",
       "  'prediction': '2A-7176'},\n",
       " {'image_id': 3,\n",
       "  'bbox': [412.66, 887.34, 82.1, 28.65],\n",
       "  'label': '3A-0779',\n",
       "  'place': 'Modulkiri',\n",
       "  'file_name': '-872300167906305244721876-e_jpg.rf.965aaf5f9848b506ea980b911e6fee48.jpg',\n",
       "  'prediction': '34-0779'},\n",
       " {'image_id': 4,\n",
       "  'bbox': [540.92, 710.6, 166.91, 48.5],\n",
       "  'label': '2A-1320',\n",
       "  'place': 'Modulkiri',\n",
       "  'file_name': '-96-613864167962126619007504-c_jpg.rf.b6c2f221653f9769ca415df0f132cb68.jpg',\n",
       "  'prediction': '2A-1320'},\n",
       " {'image_id': 5,\n",
       "  'bbox': [209.81, 669.03, 110.6, 38.16],\n",
       "  'label': '2B-5400',\n",
       "  'place': 'Modulkiri',\n",
       "  'file_name': '-crv98--314623167542570845124864-b.jpg',\n",
       "  'prediction': '2B-5400'}]"
      ]
     },
     "execution_count": 15,
     "metadata": {},
     "output_type": "execute_result"
    }
   ],
   "source": [
    "import cv2\n",
    "\n",
    "for i in range(len(serial_info)):\n",
    "    bbox = serial_info[i]['bbox']\n",
    "\n",
    "    # convert bbox to int type\n",
    "    x, y, w, h = map(int, bbox) \n",
    "    x2, y2 = x + w, y + h\n",
    "\n",
    "    img = '/home/nattkorat/Desktop/klpr_dataset/images/'+serial_info[i]['file_name']\n",
    "    \n",
    "    image = cv2.imread(img) # read image from dataset\n",
    "\n",
    "    preprocess = pre_process(image[y:y2, x:x2])\n",
    "\n",
    "    text = reader.readtext(preprocess)\n",
    "    result = [i[-2] for i in text]\n",
    "    txt = ''.join(result)\n",
    "\n",
    "    serial_info[i]['prediction'] = txt.upper()\n",
    "\n",
    "serial_info[:5]"
   ]
  },
  {
   "cell_type": "code",
   "execution_count": 16,
   "metadata": {},
   "outputs": [
    {
     "data": {
      "text/html": [
       "<div>\n",
       "<style scoped>\n",
       "    .dataframe tbody tr th:only-of-type {\n",
       "        vertical-align: middle;\n",
       "    }\n",
       "\n",
       "    .dataframe tbody tr th {\n",
       "        vertical-align: top;\n",
       "    }\n",
       "\n",
       "    .dataframe thead th {\n",
       "        text-align: right;\n",
       "    }\n",
       "</style>\n",
       "<table border=\"1\" class=\"dataframe\">\n",
       "  <thead>\n",
       "    <tr style=\"text-align: right;\">\n",
       "      <th></th>\n",
       "      <th>image_id</th>\n",
       "      <th>bbox</th>\n",
       "      <th>label</th>\n",
       "      <th>place</th>\n",
       "      <th>file_name</th>\n",
       "      <th>prediction</th>\n",
       "    </tr>\n",
       "  </thead>\n",
       "  <tbody>\n",
       "    <tr>\n",
       "      <th>0</th>\n",
       "      <td>1</td>\n",
       "      <td>[796.1, 650.35, 78.63, 34.05]</td>\n",
       "      <td>3A-0321</td>\n",
       "      <td>Modulkiri</td>\n",
       "      <td>--484132167868878048907440-c.jpg</td>\n",
       "      <td>3A-0321</td>\n",
       "    </tr>\n",
       "    <tr>\n",
       "      <th>1</th>\n",
       "      <td>2</td>\n",
       "      <td>[357.39, 921.86, 102.72, 37.26]</td>\n",
       "      <td>2A-7176</td>\n",
       "      <td>Modulkiri</td>\n",
       "      <td>-2000-8500-0977857183-781288167987857290124015...</td>\n",
       "      <td>2A-7176</td>\n",
       "    </tr>\n",
       "    <tr>\n",
       "      <th>2</th>\n",
       "      <td>3</td>\n",
       "      <td>[412.66, 887.34, 82.1, 28.65]</td>\n",
       "      <td>3A-0779</td>\n",
       "      <td>Modulkiri</td>\n",
       "      <td>-872300167906305244721876-e_jpg.rf.965aaf5f984...</td>\n",
       "      <td>34-0779</td>\n",
       "    </tr>\n",
       "    <tr>\n",
       "      <th>3</th>\n",
       "      <td>4</td>\n",
       "      <td>[540.92, 710.6, 166.91, 48.5]</td>\n",
       "      <td>2A-1320</td>\n",
       "      <td>Modulkiri</td>\n",
       "      <td>-96-613864167962126619007504-c_jpg.rf.b6c2f221...</td>\n",
       "      <td>2A-1320</td>\n",
       "    </tr>\n",
       "    <tr>\n",
       "      <th>4</th>\n",
       "      <td>5</td>\n",
       "      <td>[209.81, 669.03, 110.6, 38.16]</td>\n",
       "      <td>2B-5400</td>\n",
       "      <td>Modulkiri</td>\n",
       "      <td>-crv98--314623167542570845124864-b.jpg</td>\n",
       "      <td>2B-5400</td>\n",
       "    </tr>\n",
       "  </tbody>\n",
       "</table>\n",
       "</div>"
      ],
      "text/plain": [
       "   image_id                             bbox    label      place  \\\n",
       "0         1    [796.1, 650.35, 78.63, 34.05]  3A-0321  Modulkiri   \n",
       "1         2  [357.39, 921.86, 102.72, 37.26]  2A-7176  Modulkiri   \n",
       "2         3    [412.66, 887.34, 82.1, 28.65]  3A-0779  Modulkiri   \n",
       "3         4    [540.92, 710.6, 166.91, 48.5]  2A-1320  Modulkiri   \n",
       "4         5   [209.81, 669.03, 110.6, 38.16]  2B-5400  Modulkiri   \n",
       "\n",
       "                                           file_name prediction  \n",
       "0                   --484132167868878048907440-c.jpg    3A-0321  \n",
       "1  -2000-8500-0977857183-781288167987857290124015...    2A-7176  \n",
       "2  -872300167906305244721876-e_jpg.rf.965aaf5f984...    34-0779  \n",
       "3  -96-613864167962126619007504-c_jpg.rf.b6c2f221...    2A-1320  \n",
       "4             -crv98--314623167542570845124864-b.jpg    2B-5400  "
      ]
     },
     "execution_count": 16,
     "metadata": {},
     "output_type": "execute_result"
    }
   ],
   "source": [
    "df = {} # create an empty dictionary\n",
    "for key in serial_info[0]. keys():\n",
    "    df[key] = []\n",
    "\n",
    "for serial in serial_info:\n",
    "    for k in serial_info[0].keys():\n",
    "        df[k].append(serial[k])\n",
    "\n",
    "df = pd.DataFrame(df)\n",
    "# df.to_csv('OCR_evaluation.csv', index=False)\n",
    "df.head()"
   ]
  },
  {
   "cell_type": "code",
   "execution_count": 17,
   "metadata": {},
   "outputs": [
    {
     "name": "stdout",
     "output_type": "stream",
     "text": [
      "2I-8661\n"
     ]
    }
   ],
   "source": [
    "import re\n",
    "\n",
    "# removing spaces and other special characters\n",
    "def remove_space_special_chars(string):\n",
    "    result = re.sub(r'[^a-zA-Z0-9]', '', string)\n",
    "    return result\n",
    "\n",
    "\n",
    "# replace character (B - 8) (0 - O) (I - 1) (A - 4)\n",
    "# first character must be number the most number is\n",
    "def num_to_char(char):\n",
    "    if char == '1':\n",
    "        return 'i'\n",
    "    if char == '0':\n",
    "        return 'o'\n",
    "    if char == '4':\n",
    "        return 'a'\n",
    "    if char == '8':\n",
    "        return 'b'\n",
    "    return char\n",
    "\n",
    "def char_to_num(char):\n",
    "    if char == 'i':\n",
    "        return '1'\n",
    "    if char == 'o':\n",
    "        return '0'\n",
    "    if char == 'a':\n",
    "        return '4'\n",
    "    if char == 'b':\n",
    "        return '8'\n",
    "    return char\n",
    "\n",
    "\n",
    "def char_map(txt, label = ''):\n",
    "    string = list(remove_space_special_chars(txt.lower()))\n",
    "    # print(string)\n",
    "    length = len(string)\n",
    "\n",
    "    if label in ['Police', 'State', 'RCAF']:\n",
    "        for i in range(length):\n",
    "            string[i] = char_to_num(string[i])\n",
    "            # print(string[i])\n",
    "        string.insert(1, '-')\n",
    "        \n",
    "    elif label == 'Cambodia':\n",
    "        string = list(txt)\n",
    "        for i in range(len(string)):\n",
    "            if string[i] in ['_', ',', '*']:\n",
    "                string[i] = '.'\n",
    "            if string[i] == ' ':\n",
    "                string[i] = ''\n",
    "\n",
    "    else:\n",
    "        if length > 0:\n",
    "            first = string[0]\n",
    "            # replace char with num\n",
    "            if not first.isdigit():\n",
    "                string[0] = char_to_num(first)\n",
    "\n",
    "            if length >= 2:\n",
    "                second = string[1] # the second character must be str\n",
    "                if second.isdigit():\n",
    "                    string[1] = num_to_char(second)\n",
    "                    \n",
    "            if length >= 3:\n",
    "                third = string[2] # has two case if len > 6 is letter else number\n",
    "                if length > 6:\n",
    "                    string[2] = num_to_char(third)\n",
    "                else:\n",
    "                    string[2] = char_to_num(third)\n",
    "            \n",
    "            # for other must be number\n",
    "            for i in range(3, length):\n",
    "                string[i] = char_to_num(string[i])\n",
    "\n",
    "        if length == 7:\n",
    "            string.insert(3, '-')\n",
    "        \n",
    "        if length == 6:\n",
    "            string.insert(2, '-')\n",
    "\n",
    "\n",
    "    \n",
    "    string = ''.join(string).upper()\n",
    "    return string\n",
    "\n",
    "if __name__ == '__main__':\n",
    "    print(char_map('2Ib.661', 'Siem Reap'))"
   ]
  },
  {
   "cell_type": "code",
   "execution_count": 18,
   "metadata": {},
   "outputs": [
    {
     "data": {
      "text/html": [
       "<div>\n",
       "<style scoped>\n",
       "    .dataframe tbody tr th:only-of-type {\n",
       "        vertical-align: middle;\n",
       "    }\n",
       "\n",
       "    .dataframe tbody tr th {\n",
       "        vertical-align: top;\n",
       "    }\n",
       "\n",
       "    .dataframe thead th {\n",
       "        text-align: right;\n",
       "    }\n",
       "</style>\n",
       "<table border=\"1\" class=\"dataframe\">\n",
       "  <thead>\n",
       "    <tr style=\"text-align: right;\">\n",
       "      <th></th>\n",
       "      <th>image_id</th>\n",
       "      <th>bbox</th>\n",
       "      <th>label</th>\n",
       "      <th>place</th>\n",
       "      <th>file_name</th>\n",
       "      <th>prediction</th>\n",
       "      <th>post_process_predict</th>\n",
       "    </tr>\n",
       "  </thead>\n",
       "  <tbody>\n",
       "    <tr>\n",
       "      <th>0</th>\n",
       "      <td>1</td>\n",
       "      <td>[796.1, 650.35, 78.63, 34.05]</td>\n",
       "      <td>3A-0321</td>\n",
       "      <td>Modulkiri</td>\n",
       "      <td>--484132167868878048907440-c.jpg</td>\n",
       "      <td>3A-0321</td>\n",
       "      <td>3A-0321</td>\n",
       "    </tr>\n",
       "    <tr>\n",
       "      <th>1</th>\n",
       "      <td>2</td>\n",
       "      <td>[357.39, 921.86, 102.72, 37.26]</td>\n",
       "      <td>2A-7176</td>\n",
       "      <td>Modulkiri</td>\n",
       "      <td>-2000-8500-0977857183-781288167987857290124015...</td>\n",
       "      <td>2A-7176</td>\n",
       "      <td>2A-7176</td>\n",
       "    </tr>\n",
       "    <tr>\n",
       "      <th>2</th>\n",
       "      <td>3</td>\n",
       "      <td>[412.66, 887.34, 82.1, 28.65]</td>\n",
       "      <td>3A-0779</td>\n",
       "      <td>Modulkiri</td>\n",
       "      <td>-872300167906305244721876-e_jpg.rf.965aaf5f984...</td>\n",
       "      <td>34-0779</td>\n",
       "      <td>3A-0779</td>\n",
       "    </tr>\n",
       "    <tr>\n",
       "      <th>3</th>\n",
       "      <td>4</td>\n",
       "      <td>[540.92, 710.6, 166.91, 48.5]</td>\n",
       "      <td>2A-1320</td>\n",
       "      <td>Modulkiri</td>\n",
       "      <td>-96-613864167962126619007504-c_jpg.rf.b6c2f221...</td>\n",
       "      <td>2A-1320</td>\n",
       "      <td>2A-1320</td>\n",
       "    </tr>\n",
       "    <tr>\n",
       "      <th>4</th>\n",
       "      <td>5</td>\n",
       "      <td>[209.81, 669.03, 110.6, 38.16]</td>\n",
       "      <td>2B-5400</td>\n",
       "      <td>Modulkiri</td>\n",
       "      <td>-crv98--314623167542570845124864-b.jpg</td>\n",
       "      <td>2B-5400</td>\n",
       "      <td>2B-5400</td>\n",
       "    </tr>\n",
       "  </tbody>\n",
       "</table>\n",
       "</div>"
      ],
      "text/plain": [
       "   image_id                             bbox    label      place  \\\n",
       "0         1    [796.1, 650.35, 78.63, 34.05]  3A-0321  Modulkiri   \n",
       "1         2  [357.39, 921.86, 102.72, 37.26]  2A-7176  Modulkiri   \n",
       "2         3    [412.66, 887.34, 82.1, 28.65]  3A-0779  Modulkiri   \n",
       "3         4    [540.92, 710.6, 166.91, 48.5]  2A-1320  Modulkiri   \n",
       "4         5   [209.81, 669.03, 110.6, 38.16]  2B-5400  Modulkiri   \n",
       "\n",
       "                                           file_name prediction  \\\n",
       "0                   --484132167868878048907440-c.jpg    3A-0321   \n",
       "1  -2000-8500-0977857183-781288167987857290124015...    2A-7176   \n",
       "2  -872300167906305244721876-e_jpg.rf.965aaf5f984...    34-0779   \n",
       "3  -96-613864167962126619007504-c_jpg.rf.b6c2f221...    2A-1320   \n",
       "4             -crv98--314623167542570845124864-b.jpg    2B-5400   \n",
       "\n",
       "  post_process_predict  \n",
       "0              3A-0321  \n",
       "1              2A-7176  \n",
       "2              3A-0779  \n",
       "3              2A-1320  \n",
       "4              2B-5400  "
      ]
     },
     "execution_count": 18,
     "metadata": {},
     "output_type": "execute_result"
    }
   ],
   "source": [
    "# df.loc[True, 'label_clean'] = True\n",
    "len(df)\n",
    "clean = []\n",
    "for i in range(len(df)):\n",
    "    txt = char_map(df['label'][i], df['place'][i])\n",
    "    clean.append(txt)\n",
    "\n",
    "clean_predict = []\n",
    "for i in range(len(df)):\n",
    "    txt = char_map(df['prediction'][i], df['place'][i])\n",
    "    clean_predict.append(txt)\n",
    "\n",
    "df['post_process_predict'] = clean_predict\n",
    "\n",
    "df.head()"
   ]
  },
  {
   "cell_type": "code",
   "execution_count": 19,
   "metadata": {},
   "outputs": [
    {
     "data": {
      "text/plain": [
       "tensor(0.3961)"
      ]
     },
     "execution_count": 19,
     "metadata": {},
     "output_type": "execute_result"
    }
   ],
   "source": [
    "cer = CharErrorRate()\n",
    "\n",
    "err = cer(df['label'], df['prediction'])\n",
    "err"
   ]
  },
  {
   "cell_type": "code",
   "execution_count": 20,
   "metadata": {},
   "outputs": [
    {
     "data": {
      "text/plain": [
       "tensor(0.3098)"
      ]
     },
     "execution_count": 20,
     "metadata": {},
     "output_type": "execute_result"
    }
   ],
   "source": [
    "err = cer(df['label'], df['post_process_predict'])\n",
    "err"
   ]
  },
  {
   "cell_type": "code",
   "execution_count": 21,
   "metadata": {},
   "outputs": [
    {
     "data": {
      "text/html": [
       "<div>\n",
       "<style scoped>\n",
       "    .dataframe tbody tr th:only-of-type {\n",
       "        vertical-align: middle;\n",
       "    }\n",
       "\n",
       "    .dataframe tbody tr th {\n",
       "        vertical-align: top;\n",
       "    }\n",
       "\n",
       "    .dataframe thead th {\n",
       "        text-align: right;\n",
       "    }\n",
       "</style>\n",
       "<table border=\"1\" class=\"dataframe\">\n",
       "  <thead>\n",
       "    <tr style=\"text-align: right;\">\n",
       "      <th></th>\n",
       "      <th>image_id</th>\n",
       "      <th>bbox</th>\n",
       "      <th>label</th>\n",
       "      <th>place</th>\n",
       "      <th>file_name</th>\n",
       "      <th>prediction</th>\n",
       "      <th>post_process_predict</th>\n",
       "      <th>width</th>\n",
       "      <th>height</th>\n",
       "    </tr>\n",
       "  </thead>\n",
       "  <tbody>\n",
       "    <tr>\n",
       "      <th>0</th>\n",
       "      <td>1</td>\n",
       "      <td>[796.1, 650.35, 78.63, 34.05]</td>\n",
       "      <td>3A-0321</td>\n",
       "      <td>Modulkiri</td>\n",
       "      <td>--484132167868878048907440-c.jpg</td>\n",
       "      <td>3A-0321</td>\n",
       "      <td>3A-0321</td>\n",
       "      <td>78.63</td>\n",
       "      <td>34.05</td>\n",
       "    </tr>\n",
       "    <tr>\n",
       "      <th>1</th>\n",
       "      <td>2</td>\n",
       "      <td>[357.39, 921.86, 102.72, 37.26]</td>\n",
       "      <td>2A-7176</td>\n",
       "      <td>Modulkiri</td>\n",
       "      <td>-2000-8500-0977857183-781288167987857290124015...</td>\n",
       "      <td>2A-7176</td>\n",
       "      <td>2A-7176</td>\n",
       "      <td>102.72</td>\n",
       "      <td>37.26</td>\n",
       "    </tr>\n",
       "    <tr>\n",
       "      <th>2</th>\n",
       "      <td>3</td>\n",
       "      <td>[412.66, 887.34, 82.1, 28.65]</td>\n",
       "      <td>3A-0779</td>\n",
       "      <td>Modulkiri</td>\n",
       "      <td>-872300167906305244721876-e_jpg.rf.965aaf5f984...</td>\n",
       "      <td>34-0779</td>\n",
       "      <td>3A-0779</td>\n",
       "      <td>82.10</td>\n",
       "      <td>28.65</td>\n",
       "    </tr>\n",
       "    <tr>\n",
       "      <th>3</th>\n",
       "      <td>4</td>\n",
       "      <td>[540.92, 710.6, 166.91, 48.5]</td>\n",
       "      <td>2A-1320</td>\n",
       "      <td>Modulkiri</td>\n",
       "      <td>-96-613864167962126619007504-c_jpg.rf.b6c2f221...</td>\n",
       "      <td>2A-1320</td>\n",
       "      <td>2A-1320</td>\n",
       "      <td>166.91</td>\n",
       "      <td>48.50</td>\n",
       "    </tr>\n",
       "    <tr>\n",
       "      <th>4</th>\n",
       "      <td>5</td>\n",
       "      <td>[209.81, 669.03, 110.6, 38.16]</td>\n",
       "      <td>2B-5400</td>\n",
       "      <td>Modulkiri</td>\n",
       "      <td>-crv98--314623167542570845124864-b.jpg</td>\n",
       "      <td>2B-5400</td>\n",
       "      <td>2B-5400</td>\n",
       "      <td>110.60</td>\n",
       "      <td>38.16</td>\n",
       "    </tr>\n",
       "  </tbody>\n",
       "</table>\n",
       "</div>"
      ],
      "text/plain": [
       "   image_id                             bbox    label      place  \\\n",
       "0         1    [796.1, 650.35, 78.63, 34.05]  3A-0321  Modulkiri   \n",
       "1         2  [357.39, 921.86, 102.72, 37.26]  2A-7176  Modulkiri   \n",
       "2         3    [412.66, 887.34, 82.1, 28.65]  3A-0779  Modulkiri   \n",
       "3         4    [540.92, 710.6, 166.91, 48.5]  2A-1320  Modulkiri   \n",
       "4         5   [209.81, 669.03, 110.6, 38.16]  2B-5400  Modulkiri   \n",
       "\n",
       "                                           file_name prediction  \\\n",
       "0                   --484132167868878048907440-c.jpg    3A-0321   \n",
       "1  -2000-8500-0977857183-781288167987857290124015...    2A-7176   \n",
       "2  -872300167906305244721876-e_jpg.rf.965aaf5f984...    34-0779   \n",
       "3  -96-613864167962126619007504-c_jpg.rf.b6c2f221...    2A-1320   \n",
       "4             -crv98--314623167542570845124864-b.jpg    2B-5400   \n",
       "\n",
       "  post_process_predict   width  height  \n",
       "0              3A-0321   78.63   34.05  \n",
       "1              2A-7176  102.72   37.26  \n",
       "2              3A-0779   82.10   28.65  \n",
       "3              2A-1320  166.91   48.50  \n",
       "4              2B-5400  110.60   38.16  "
      ]
     },
     "execution_count": 21,
     "metadata": {},
     "output_type": "execute_result"
    }
   ],
   "source": [
    "bbox = df['bbox']\n",
    "\n",
    "width = [i[-2] for i in bbox]\n",
    "height = [i[-1] for i in bbox]\n",
    "\n",
    "df['width'] = width\n",
    "df['height'] = height\n",
    "df.head()"
   ]
  },
  {
   "cell_type": "code",
   "execution_count": 22,
   "metadata": {},
   "outputs": [
    {
     "data": {
      "text/html": [
       "<div>\n",
       "<style scoped>\n",
       "    .dataframe tbody tr th:only-of-type {\n",
       "        vertical-align: middle;\n",
       "    }\n",
       "\n",
       "    .dataframe tbody tr th {\n",
       "        vertical-align: top;\n",
       "    }\n",
       "\n",
       "    .dataframe thead th {\n",
       "        text-align: right;\n",
       "    }\n",
       "</style>\n",
       "<table border=\"1\" class=\"dataframe\">\n",
       "  <thead>\n",
       "    <tr style=\"text-align: right;\">\n",
       "      <th></th>\n",
       "      <th>image_id</th>\n",
       "      <th>bbox</th>\n",
       "      <th>label</th>\n",
       "      <th>place</th>\n",
       "      <th>file_name</th>\n",
       "      <th>prediction</th>\n",
       "      <th>post_process_predict</th>\n",
       "      <th>width</th>\n",
       "      <th>height</th>\n",
       "      <th>CER</th>\n",
       "    </tr>\n",
       "  </thead>\n",
       "  <tbody>\n",
       "    <tr>\n",
       "      <th>0</th>\n",
       "      <td>1</td>\n",
       "      <td>[796.1, 650.35, 78.63, 34.05]</td>\n",
       "      <td>3A-0321</td>\n",
       "      <td>Modulkiri</td>\n",
       "      <td>--484132167868878048907440-c.jpg</td>\n",
       "      <td>3A-0321</td>\n",
       "      <td>3A-0321</td>\n",
       "      <td>78.63</td>\n",
       "      <td>34.05</td>\n",
       "      <td>0.0</td>\n",
       "    </tr>\n",
       "    <tr>\n",
       "      <th>1</th>\n",
       "      <td>2</td>\n",
       "      <td>[357.39, 921.86, 102.72, 37.26]</td>\n",
       "      <td>2A-7176</td>\n",
       "      <td>Modulkiri</td>\n",
       "      <td>-2000-8500-0977857183-781288167987857290124015...</td>\n",
       "      <td>2A-7176</td>\n",
       "      <td>2A-7176</td>\n",
       "      <td>102.72</td>\n",
       "      <td>37.26</td>\n",
       "      <td>0.0</td>\n",
       "    </tr>\n",
       "    <tr>\n",
       "      <th>2</th>\n",
       "      <td>3</td>\n",
       "      <td>[412.66, 887.34, 82.1, 28.65]</td>\n",
       "      <td>3A-0779</td>\n",
       "      <td>Modulkiri</td>\n",
       "      <td>-872300167906305244721876-e_jpg.rf.965aaf5f984...</td>\n",
       "      <td>34-0779</td>\n",
       "      <td>3A-0779</td>\n",
       "      <td>82.10</td>\n",
       "      <td>28.65</td>\n",
       "      <td>0.0</td>\n",
       "    </tr>\n",
       "    <tr>\n",
       "      <th>3</th>\n",
       "      <td>4</td>\n",
       "      <td>[540.92, 710.6, 166.91, 48.5]</td>\n",
       "      <td>2A-1320</td>\n",
       "      <td>Modulkiri</td>\n",
       "      <td>-96-613864167962126619007504-c_jpg.rf.b6c2f221...</td>\n",
       "      <td>2A-1320</td>\n",
       "      <td>2A-1320</td>\n",
       "      <td>166.91</td>\n",
       "      <td>48.50</td>\n",
       "      <td>0.0</td>\n",
       "    </tr>\n",
       "    <tr>\n",
       "      <th>4</th>\n",
       "      <td>5</td>\n",
       "      <td>[209.81, 669.03, 110.6, 38.16]</td>\n",
       "      <td>2B-5400</td>\n",
       "      <td>Modulkiri</td>\n",
       "      <td>-crv98--314623167542570845124864-b.jpg</td>\n",
       "      <td>2B-5400</td>\n",
       "      <td>2B-5400</td>\n",
       "      <td>110.60</td>\n",
       "      <td>38.16</td>\n",
       "      <td>0.0</td>\n",
       "    </tr>\n",
       "  </tbody>\n",
       "</table>\n",
       "</div>"
      ],
      "text/plain": [
       "   image_id                             bbox    label      place  \\\n",
       "0         1    [796.1, 650.35, 78.63, 34.05]  3A-0321  Modulkiri   \n",
       "1         2  [357.39, 921.86, 102.72, 37.26]  2A-7176  Modulkiri   \n",
       "2         3    [412.66, 887.34, 82.1, 28.65]  3A-0779  Modulkiri   \n",
       "3         4    [540.92, 710.6, 166.91, 48.5]  2A-1320  Modulkiri   \n",
       "4         5   [209.81, 669.03, 110.6, 38.16]  2B-5400  Modulkiri   \n",
       "\n",
       "                                           file_name prediction  \\\n",
       "0                   --484132167868878048907440-c.jpg    3A-0321   \n",
       "1  -2000-8500-0977857183-781288167987857290124015...    2A-7176   \n",
       "2  -872300167906305244721876-e_jpg.rf.965aaf5f984...    34-0779   \n",
       "3  -96-613864167962126619007504-c_jpg.rf.b6c2f221...    2A-1320   \n",
       "4             -crv98--314623167542570845124864-b.jpg    2B-5400   \n",
       "\n",
       "  post_process_predict   width  height  CER  \n",
       "0              3A-0321   78.63   34.05  0.0  \n",
       "1              2A-7176  102.72   37.26  0.0  \n",
       "2              3A-0779   82.10   28.65  0.0  \n",
       "3              2A-1320  166.91   48.50  0.0  \n",
       "4              2B-5400  110.60   38.16  0.0  "
      ]
     },
     "execution_count": 22,
     "metadata": {},
     "output_type": "execute_result"
    }
   ],
   "source": [
    "rate = [cer(df['label'][i], df['post_process_predict'][i]).item() for i in range(len(df))]\n",
    "df['CER'] = rate\n",
    "df.head()"
   ]
  },
  {
   "cell_type": "markdown",
   "metadata": {},
   "source": [
    "### Correlationship between width, height, and CER"
   ]
  },
  {
   "cell_type": "code",
   "execution_count": 23,
   "metadata": {},
   "outputs": [
    {
     "data": {
      "text/html": [
       "<div>\n",
       "<style scoped>\n",
       "    .dataframe tbody tr th:only-of-type {\n",
       "        vertical-align: middle;\n",
       "    }\n",
       "\n",
       "    .dataframe tbody tr th {\n",
       "        vertical-align: top;\n",
       "    }\n",
       "\n",
       "    .dataframe thead th {\n",
       "        text-align: right;\n",
       "    }\n",
       "</style>\n",
       "<table border=\"1\" class=\"dataframe\">\n",
       "  <thead>\n",
       "    <tr style=\"text-align: right;\">\n",
       "      <th></th>\n",
       "      <th>width</th>\n",
       "      <th>height</th>\n",
       "      <th>CER</th>\n",
       "    </tr>\n",
       "  </thead>\n",
       "  <tbody>\n",
       "    <tr>\n",
       "      <th>width</th>\n",
       "      <td>1.000000</td>\n",
       "      <td>0.891496</td>\n",
       "      <td>-0.214274</td>\n",
       "    </tr>\n",
       "    <tr>\n",
       "      <th>height</th>\n",
       "      <td>0.891496</td>\n",
       "      <td>1.000000</td>\n",
       "      <td>-0.163393</td>\n",
       "    </tr>\n",
       "    <tr>\n",
       "      <th>CER</th>\n",
       "      <td>-0.214274</td>\n",
       "      <td>-0.163393</td>\n",
       "      <td>1.000000</td>\n",
       "    </tr>\n",
       "  </tbody>\n",
       "</table>\n",
       "</div>"
      ],
      "text/plain": [
       "           width    height       CER\n",
       "width   1.000000  0.891496 -0.214274\n",
       "height  0.891496  1.000000 -0.163393\n",
       "CER    -0.214274 -0.163393  1.000000"
      ]
     },
     "execution_count": 23,
     "metadata": {},
     "output_type": "execute_result"
    }
   ],
   "source": [
    "corr_matrics = df[['width', 'height', 'CER']].corr()\n",
    "corr_matrics"
   ]
  },
  {
   "cell_type": "code",
   "execution_count": 24,
   "metadata": {},
   "outputs": [
    {
     "data": {
      "image/png": "[encoded data removed]",
      "text/plain": [
       "<Figure size 800x600 with 2 Axes>"
      ]
     },
     "metadata": {},
     "output_type": "display_data"
    }
   ],
   "source": [
    "plt.figure(figsize=(8, 6))\n",
    "sns.heatmap(corr_matrics, annot=True, cmap=\"coolwarm\", center=0)\n",
    "plt.title('Correlation Heatmap')\n",
    "plt.show()"
   ]
  },
  {
   "cell_type": "code",
   "execution_count": 25,
   "metadata": {},
   "outputs": [],
   "source": [
    "df.to_csv('OCR_evaluation.csv', index=False)"
   ]
  },
  {
   "cell_type": "markdown",
   "metadata": {},
   "source": [
    "### Checking for width and heigh distribution"
   ]
  },
  {
   "cell_type": "code",
   "execution_count": 26,
   "metadata": {},
   "outputs": [
    {
     "data": {
      "text/html": [
       "<div>\n",
       "<style scoped>\n",
       "    .dataframe tbody tr th:only-of-type {\n",
       "        vertical-align: middle;\n",
       "    }\n",
       "\n",
       "    .dataframe tbody tr th {\n",
       "        vertical-align: top;\n",
       "    }\n",
       "\n",
       "    .dataframe thead th {\n",
       "        text-align: right;\n",
       "    }\n",
       "</style>\n",
       "<table border=\"1\" class=\"dataframe\">\n",
       "  <thead>\n",
       "    <tr style=\"text-align: right;\">\n",
       "      <th></th>\n",
       "      <th>image_id</th>\n",
       "      <th>bbox</th>\n",
       "      <th>label</th>\n",
       "      <th>place</th>\n",
       "      <th>file_name</th>\n",
       "      <th>prediction</th>\n",
       "      <th>post_process_predict</th>\n",
       "      <th>width</th>\n",
       "      <th>height</th>\n",
       "      <th>CER</th>\n",
       "    </tr>\n",
       "  </thead>\n",
       "  <tbody>\n",
       "    <tr>\n",
       "      <th>0</th>\n",
       "      <td>1</td>\n",
       "      <td>[796.1, 650.35, 78.63, 34.05]</td>\n",
       "      <td>3A-0321</td>\n",
       "      <td>Modulkiri</td>\n",
       "      <td>--484132167868878048907440-c.jpg</td>\n",
       "      <td>3A-0321</td>\n",
       "      <td>3A-0321</td>\n",
       "      <td>78.63</td>\n",
       "      <td>34.05</td>\n",
       "      <td>0.0</td>\n",
       "    </tr>\n",
       "    <tr>\n",
       "      <th>1</th>\n",
       "      <td>2</td>\n",
       "      <td>[357.39, 921.86, 102.72, 37.26]</td>\n",
       "      <td>2A-7176</td>\n",
       "      <td>Modulkiri</td>\n",
       "      <td>-2000-8500-0977857183-781288167987857290124015...</td>\n",
       "      <td>2A-7176</td>\n",
       "      <td>2A-7176</td>\n",
       "      <td>102.72</td>\n",
       "      <td>37.26</td>\n",
       "      <td>0.0</td>\n",
       "    </tr>\n",
       "    <tr>\n",
       "      <th>2</th>\n",
       "      <td>3</td>\n",
       "      <td>[412.66, 887.34, 82.1, 28.65]</td>\n",
       "      <td>3A-0779</td>\n",
       "      <td>Modulkiri</td>\n",
       "      <td>-872300167906305244721876-e_jpg.rf.965aaf5f984...</td>\n",
       "      <td>34-0779</td>\n",
       "      <td>3A-0779</td>\n",
       "      <td>82.10</td>\n",
       "      <td>28.65</td>\n",
       "      <td>0.0</td>\n",
       "    </tr>\n",
       "    <tr>\n",
       "      <th>3</th>\n",
       "      <td>4</td>\n",
       "      <td>[540.92, 710.6, 166.91, 48.5]</td>\n",
       "      <td>2A-1320</td>\n",
       "      <td>Modulkiri</td>\n",
       "      <td>-96-613864167962126619007504-c_jpg.rf.b6c2f221...</td>\n",
       "      <td>2A-1320</td>\n",
       "      <td>2A-1320</td>\n",
       "      <td>166.91</td>\n",
       "      <td>48.50</td>\n",
       "      <td>0.0</td>\n",
       "    </tr>\n",
       "    <tr>\n",
       "      <th>4</th>\n",
       "      <td>5</td>\n",
       "      <td>[209.81, 669.03, 110.6, 38.16]</td>\n",
       "      <td>2B-5400</td>\n",
       "      <td>Modulkiri</td>\n",
       "      <td>-crv98--314623167542570845124864-b.jpg</td>\n",
       "      <td>2B-5400</td>\n",
       "      <td>2B-5400</td>\n",
       "      <td>110.60</td>\n",
       "      <td>38.16</td>\n",
       "      <td>0.0</td>\n",
       "    </tr>\n",
       "  </tbody>\n",
       "</table>\n",
       "</div>"
      ],
      "text/plain": [
       "   image_id                             bbox    label      place  \\\n",
       "0         1    [796.1, 650.35, 78.63, 34.05]  3A-0321  Modulkiri   \n",
       "1         2  [357.39, 921.86, 102.72, 37.26]  2A-7176  Modulkiri   \n",
       "2         3    [412.66, 887.34, 82.1, 28.65]  3A-0779  Modulkiri   \n",
       "3         4    [540.92, 710.6, 166.91, 48.5]  2A-1320  Modulkiri   \n",
       "4         5   [209.81, 669.03, 110.6, 38.16]  2B-5400  Modulkiri   \n",
       "\n",
       "                                           file_name prediction  \\\n",
       "0                   --484132167868878048907440-c.jpg    3A-0321   \n",
       "1  -2000-8500-0977857183-781288167987857290124015...    2A-7176   \n",
       "2  -872300167906305244721876-e_jpg.rf.965aaf5f984...    34-0779   \n",
       "3  -96-613864167962126619007504-c_jpg.rf.b6c2f221...    2A-1320   \n",
       "4             -crv98--314623167542570845124864-b.jpg    2B-5400   \n",
       "\n",
       "  post_process_predict   width  height  CER  \n",
       "0              3A-0321   78.63   34.05  0.0  \n",
       "1              2A-7176  102.72   37.26  0.0  \n",
       "2              3A-0779   82.10   28.65  0.0  \n",
       "3              2A-1320  166.91   48.50  0.0  \n",
       "4              2B-5400  110.60   38.16  0.0  "
      ]
     },
     "execution_count": 26,
     "metadata": {},
     "output_type": "execute_result"
    }
   ],
   "source": [
    "df = pd.read_csv('OCR_evaluation.csv')\n",
    "df.head()"
   ]
  }
 ],
 "metadata": {
  "kernelspec": {
   "display_name": "Python 3 (ipykernel)",
   "language": "python",
   "name": "python3"
  },
  "language_info": {
   "codemirror_mode": {
    "name": "ipython",
    "version": 3
   },
   "file_extension": ".py",
   "mimetype": "text/x-python",
   "name": "python",
   "nbconvert_exporter": "python",
   "pygments_lexer": "ipython3",
   "version": "3.10.12"
  }
 },
 "nbformat": 4,
 "nbformat_minor": 2
}

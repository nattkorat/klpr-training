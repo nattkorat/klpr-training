{
 "cells": [
  {
   "cell_type": "code",
   "execution_count": 31,
   "metadata": {},
   "outputs": [],
   "source": [
    "import pandas as pd\n",
    "import matplotlib.pyplot as plt \n"
   ]
  },
  {
   "cell_type": "code",
   "execution_count": 32,
   "metadata": {},
   "outputs": [
    {
     "data": {
      "text/html": [
       "<div>\n",
       "<style scoped>\n",
       "    .dataframe tbody tr th:only-of-type {\n",
       "        vertical-align: middle;\n",
       "    }\n",
       "\n",
       "    .dataframe tbody tr th {\n",
       "        vertical-align: top;\n",
       "    }\n",
       "\n",
       "    .dataframe thead th {\n",
       "        text-align: right;\n",
       "    }\n",
       "</style>\n",
       "<table border=\"1\" class=\"dataframe\">\n",
       "  <thead>\n",
       "    <tr style=\"text-align: right;\">\n",
       "      <th></th>\n",
       "      <th>image</th>\n",
       "      <th>height</th>\n",
       "      <th>width</th>\n",
       "      <th>place</th>\n",
       "      <th>size</th>\n",
       "      <th>predicted</th>\n",
       "    </tr>\n",
       "  </thead>\n",
       "  <tbody>\n",
       "    <tr>\n",
       "      <th>0</th>\n",
       "      <td>test_img/road_pp37.jpg</td>\n",
       "      <td>94</td>\n",
       "      <td>169</td>\n",
       "      <td>Phnom Penh</td>\n",
       "      <td>15886</td>\n",
       "      <td>True</td>\n",
       "    </tr>\n",
       "    <tr>\n",
       "      <th>1</th>\n",
       "      <td>test_img/2_jpg.rf.6f22c40f457eea5c6359f0f2f42d...</td>\n",
       "      <td>75</td>\n",
       "      <td>122</td>\n",
       "      <td>Police</td>\n",
       "      <td>9150</td>\n",
       "      <td>True</td>\n",
       "    </tr>\n",
       "    <tr>\n",
       "      <th>2</th>\n",
       "      <td>test_img/20230628121.jpg</td>\n",
       "      <td>75</td>\n",
       "      <td>126</td>\n",
       "      <td>Kandal</td>\n",
       "      <td>9450</td>\n",
       "      <td>True</td>\n",
       "    </tr>\n",
       "    <tr>\n",
       "      <th>3</th>\n",
       "      <td>test_img/20230628121.jpg</td>\n",
       "      <td>38</td>\n",
       "      <td>135</td>\n",
       "      <td>Phnom Penh</td>\n",
       "      <td>5130</td>\n",
       "      <td>True</td>\n",
       "    </tr>\n",
       "    <tr>\n",
       "      <th>4</th>\n",
       "      <td>test_img/siem_reap47.jpg</td>\n",
       "      <td>103</td>\n",
       "      <td>164</td>\n",
       "      <td>Siem Reap</td>\n",
       "      <td>16892</td>\n",
       "      <td>True</td>\n",
       "    </tr>\n",
       "    <tr>\n",
       "      <th>...</th>\n",
       "      <td>...</td>\n",
       "      <td>...</td>\n",
       "      <td>...</td>\n",
       "      <td>...</td>\n",
       "      <td>...</td>\n",
       "      <td>...</td>\n",
       "    </tr>\n",
       "    <tr>\n",
       "      <th>129</th>\n",
       "      <td>test_img/preah_monivong_blvd25.jpg</td>\n",
       "      <td>58</td>\n",
       "      <td>74</td>\n",
       "      <td>Koh Kong</td>\n",
       "      <td>4292</td>\n",
       "      <td>True</td>\n",
       "    </tr>\n",
       "    <tr>\n",
       "      <th>130</th>\n",
       "      <td>test_img/preah_monivong_blvd25.jpg</td>\n",
       "      <td>41</td>\n",
       "      <td>71</td>\n",
       "      <td>Phnom Penh</td>\n",
       "      <td>2911</td>\n",
       "      <td>True</td>\n",
       "    </tr>\n",
       "    <tr>\n",
       "      <th>131</th>\n",
       "      <td>test_img/siem_reap50.jpg</td>\n",
       "      <td>96</td>\n",
       "      <td>156</td>\n",
       "      <td>Siem Reap</td>\n",
       "      <td>14976</td>\n",
       "      <td>True</td>\n",
       "    </tr>\n",
       "    <tr>\n",
       "      <th>132</th>\n",
       "      <td>test_img/fn-2019-01-24-10-37-19-16_jpg.rf.ee1c...</td>\n",
       "      <td>49</td>\n",
       "      <td>91</td>\n",
       "      <td>NaN</td>\n",
       "      <td>4459</td>\n",
       "      <td>False</td>\n",
       "    </tr>\n",
       "    <tr>\n",
       "      <th>133</th>\n",
       "      <td>test_img/8ac0ab281af34a0384c9fcf046c9cab7_jpg....</td>\n",
       "      <td>263</td>\n",
       "      <td>382</td>\n",
       "      <td>Banteay Meanchey</td>\n",
       "      <td>100466</td>\n",
       "      <td>True</td>\n",
       "    </tr>\n",
       "  </tbody>\n",
       "</table>\n",
       "<p>134 rows × 6 columns</p>\n",
       "</div>"
      ],
      "text/plain": [
       "                                                 image  height  width  \\\n",
       "0                               test_img/road_pp37.jpg      94    169   \n",
       "1    test_img/2_jpg.rf.6f22c40f457eea5c6359f0f2f42d...      75    122   \n",
       "2                             test_img/20230628121.jpg      75    126   \n",
       "3                             test_img/20230628121.jpg      38    135   \n",
       "4                             test_img/siem_reap47.jpg     103    164   \n",
       "..                                                 ...     ...    ...   \n",
       "129                 test_img/preah_monivong_blvd25.jpg      58     74   \n",
       "130                 test_img/preah_monivong_blvd25.jpg      41     71   \n",
       "131                           test_img/siem_reap50.jpg      96    156   \n",
       "132  test_img/fn-2019-01-24-10-37-19-16_jpg.rf.ee1c...      49     91   \n",
       "133  test_img/8ac0ab281af34a0384c9fcf046c9cab7_jpg....     263    382   \n",
       "\n",
       "                place    size  predicted  \n",
       "0          Phnom Penh   15886       True  \n",
       "1              Police    9150       True  \n",
       "2              Kandal    9450       True  \n",
       "3          Phnom Penh    5130       True  \n",
       "4           Siem Reap   16892       True  \n",
       "..                ...     ...        ...  \n",
       "129          Koh Kong    4292       True  \n",
       "130        Phnom Penh    2911       True  \n",
       "131         Siem Reap   14976       True  \n",
       "132               NaN    4459      False  \n",
       "133  Banteay Meanchey  100466       True  \n",
       "\n",
       "[134 rows x 6 columns]"
      ]
     },
     "execution_count": 32,
     "metadata": {},
     "output_type": "execute_result"
    }
   ],
   "source": [
    "df = pd.read_csv('size_testing_data.csv')\n",
    "df"
   ]
  },
  {
   "cell_type": "code",
   "execution_count": 33,
   "metadata": {},
   "outputs": [
    {
     "data": {
      "text/plain": [
       "predicted\n",
       "False     26800\n",
       "True     100466\n",
       "Name: size, dtype: int64"
      ]
     },
     "execution_count": 33,
     "metadata": {},
     "output_type": "execute_result"
    }
   ],
   "source": [
    "df.groupby('predicted')['size'].max()"
   ]
  },
  {
   "cell_type": "code",
   "execution_count": 34,
   "metadata": {},
   "outputs": [
    {
     "data": {
      "text/plain": [
       "predicted\n",
       "False     26800\n",
       "True     100466\n",
       "Name: size, dtype: int64"
      ]
     },
     "execution_count": 34,
     "metadata": {},
     "output_type": "execute_result"
    }
   ],
   "source": [
    "df.groupby('predicted')['size'].max()"
   ]
  },
  {
   "cell_type": "code",
   "execution_count": 35,
   "metadata": {},
   "outputs": [
    {
     "data": {
      "text/plain": [
       "Text(0, 0.5, 'Height')"
      ]
     },
     "execution_count": 35,
     "metadata": {},
     "output_type": "execute_result"
    },
    {
     "data": {
      "image/png": "[encoded data removed]",
      "text/plain": [
       "<Figure size 640x480 with 1 Axes>"
      ]
     },
     "metadata": {},
     "output_type": "display_data"
    }
   ],
   "source": [
    "plt.scatter(x=df['width'], y=df['height'], c=df['predicted'])\n",
    "plt.legend(df['predicted'])\n",
    "plt.xlabel('Width')\n",
    "plt.ylabel('Height')"
   ]
  }
 ],
 "metadata": {
  "kernelspec": {
   "display_name": "Python 3",
   "language": "python",
   "name": "python3"
  },
  "language_info": {
   "codemirror_mode": {
    "name": "ipython",
    "version": 3
   },
   "file_extension": ".py",
   "mimetype": "text/x-python",
   "name": "python",
   "nbconvert_exporter": "python",
   "pygments_lexer": "ipython3",
   "version": "3.10.12"
  },
  "orig_nbformat": 4
 },
 "nbformat": 4,
 "nbformat_minor": 2
}
